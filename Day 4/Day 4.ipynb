{
 "cells": [
  {
   "cell_type": "code",
   "execution_count": 90,
   "id": "6aa44993-dbc2-422a-9493-f48854c2060a",
   "metadata": {},
   "outputs": [],
   "source": [
    "lines = []\n",
    "with open(\"input-day4.txt\", \"r\") as f:\n",
    "    for line in f:\n",
    "       lines.append(line.replace(\"\\n\", \"\"))"
   ]
  },
  {
   "cell_type": "code",
   "execution_count": 44,
   "id": "e81e432b",
   "metadata": {},
   "outputs": [],
   "source": [
    "test_lines = [i[:20] for i in lines[:10]]"
   ]
  },
  {
   "cell_type": "code",
   "execution_count": 45,
   "id": "93803759",
   "metadata": {},
   "outputs": [
    {
     "data": {
      "text/plain": [
       "['MXXMASAMXSAMXSXMAMXX',\n",
       " 'SASAMXSAMAMXAAAMSMSS',\n",
       " 'MASXSXAMMSXMSMMMMAMA',\n",
       " 'MXMAMMMMAXAMMAAAMAMM',\n",
       " 'SXMXMAXMASAMSSMMSAMM',\n",
       " 'MMMAXMXMAMAMXMAXSXMX',\n",
       " 'XASMSMSMSSMMAXSXMMMS',\n",
       " 'MMAMAMSAXXXSXSMMSMMA',\n",
       " 'XMAMMSMMMMMMMSMAAAMM',\n",
       " 'ASXMSAXAAAMAAMMSXSMA']"
      ]
     },
     "execution_count": 45,
     "metadata": {},
     "output_type": "execute_result"
    }
   ],
   "source": [
    "test_lines"
   ]
  },
  {
   "cell_type": "code",
   "execution_count": 84,
   "id": "e6ae804c",
   "metadata": {},
   "outputs": [],
   "source": [
    "lines = test_lines"
   ]
  },
  {
   "cell_type": "code",
   "execution_count": 107,
   "id": "595652e8",
   "metadata": {},
   "outputs": [
    {
     "data": {
      "text/plain": [
       "2530"
      ]
     },
     "execution_count": 107,
     "metadata": {},
     "output_type": "execute_result"
    }
   ],
   "source": [
    "row_len = len(lines)\n",
    "col_len = len(lines[0])\n",
    "\n",
    "xmas_ct = 0\n",
    "\n",
    "for row in range(row_len):\n",
    "    for col in range(col_len):\n",
    "        if lines[row][col] == \"X\":\n",
    "            # Check horizontal forward\n",
    "            if col <= col_len - 4:\n",
    "                forwards = lines[row][col:col+4]\n",
    "                if forwards == \"XMAS\":\n",
    "                    xmas_ct += 1\n",
    "\n",
    "            # Check horizontal backward\n",
    "            if col >= 3:\n",
    "                backwards = lines[row][col] + lines[row][col-1] + lines[row][col-2] + lines[row][col-3]\n",
    "                if backwards == \"XMAS\":\n",
    "                    xmas_ct += 1\n",
    "\n",
    "            # Check vertical down\n",
    "            if row <= row_len - 4:\n",
    "                downs = lines[row][col] + lines[row+1][col] + lines[row+2][col] + lines[row+3][col]\n",
    "                if downs == \"XMAS\":\n",
    "                    xmas_ct += 1\n",
    "\n",
    "            # Check vertical up\n",
    "            if row >= 3:\n",
    "                ups = lines[row][col] + lines[row-1][col] + lines[row-2][col] + lines[row-3][col]\n",
    "                if ups == \"XMAS\":\n",
    "                    xmas_ct += 1\n",
    "\n",
    "            # Check diagonal down-right\n",
    "            if row <= row_len - 4 and col <= col_len - 4:\n",
    "                down_right = lines[row][col] + lines[row+1][col+1] + lines[row+2][col+2] + lines[row+3][col+3]\n",
    "                if down_right == \"XMAS\":\n",
    "                    xmas_ct += 1\n",
    "\n",
    "            # Check diagonal down-left\n",
    "            if row <= row_len - 4 and col >= 3:\n",
    "                down_left = lines[row][col] + lines[row+1][col-1] + lines[row+2][col-2] + lines[row+3][col-3]\n",
    "                if down_left == \"XMAS\":\n",
    "                    xmas_ct += 1\n",
    "\n",
    "            # Check diagonal up-right\n",
    "            if row >= 3 and col <= col_len - 4:\n",
    "                up_right = lines[row][col] + lines[row-1][col+1] + lines[row-2][col+2] + lines[row-3][col+3]\n",
    "                if up_right == \"XMAS\":\n",
    "                    xmas_ct += 1\n",
    "\n",
    "            # Check diagonal up-left\n",
    "            if row >= 3 and col >= 3:\n",
    "                up_left = lines[row][col] + lines[row-1][col-1] + lines[row-2][col-2] + lines[row-3][col-3]\n",
    "                if up_left == \"XMAS\":\n",
    "                    xmas_ct += 1\n",
    "\n",
    "xmas_ct\n"
   ]
  },
  {
   "cell_type": "code",
   "execution_count": 110,
   "id": "e632a05d",
   "metadata": {},
   "outputs": [
    {
     "data": {
      "text/plain": [
       "2904"
      ]
     },
     "execution_count": 110,
     "metadata": {},
     "output_type": "execute_result"
    }
   ],
   "source": [
    "\n",
    "rows, cols = len(lines), len(lines[0])\n",
    "xmas_count = 0\n",
    "\n",
    "for row in range(1, rows - 1):  # Exclude edges, as 'A' must have space around it\n",
    "    for col in range(1, cols - 1):\n",
    "        if lines[row][col] == 'A':\n",
    "            # Check diagonals for \"MAS\" pattern\n",
    "            if ((lines[row - 1][col - 1] == 'M' or lines[row - 1][col - 1] == 'S')  and  # Top-left 'M'\n",
    "                (lines[row - 1][col + 1] == 'S' or lines[row - 1][col + 1] == 'M') and  # Top-right 'S'\n",
    "                (lines[row + 1][col - 1] == 'S' or lines[row + 1][col - 1] == 'M' ) and  # Bottom-left 'S'\n",
    "                (lines[row + 1][col + 1] == 'M' or lines[row + 1][col + 1] == 'S' )):    # Bottom-right 'M'\n",
    "                xmas_count += 1\n",
    "\n",
    "xmas_count"
   ]
  },
  {
   "cell_type": "code",
   "execution_count": null,
   "id": "13a5aaba",
   "metadata": {},
   "outputs": [],
   "source": []
  }
 ],
 "metadata": {
  "kernelspec": {
   "display_name": "Python 3 (ipykernel)",
   "language": "python",
   "name": "python3"
  },
  "language_info": {
   "codemirror_mode": {
    "name": "ipython",
    "version": 3
   },
   "file_extension": ".py",
   "mimetype": "text/x-python",
   "name": "python",
   "nbconvert_exporter": "python",
   "pygments_lexer": "ipython3",
   "version": "3.10.15"
  }
 },
 "nbformat": 4,
 "nbformat_minor": 5
}
