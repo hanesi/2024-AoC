{
 "cells": [
  {
   "cell_type": "code",
   "execution_count": 208,
   "id": "6aa44993-dbc2-422a-9493-f48854c2060a",
   "metadata": {},
   "outputs": [],
   "source": [
    "data = open('input_day3.txt').read()"
   ]
  },
  {
   "cell_type": "code",
   "execution_count": 90,
   "id": "7e3c7ae5-c6a2-411a-b6a6-8f5438f8bd42",
   "metadata": {},
   "outputs": [],
   "source": [
    "data = \"[from()$&from()#mul(417,968),@how()'#mul(573,792)@+where():?[*;from(389,420)mul(605,462)mul(855@/?>from(536,759)\""
   ]
  },
  {
   "cell_type": "code",
   "execution_count": 190,
   "id": "a7c74752-e3d2-44fd-93f4-f1ed15c077e3",
   "metadata": {},
   "outputs": [],
   "source": [
    "data = \"&from()#mul(417,968)don't()[:mul(565,649)do()'#mul(573,792)\""
   ]
  },
  {
   "cell_type": "code",
   "execution_count": 146,
   "id": "b4dcd7b5-4c8d-4278-bf16-bd4c451263cb",
   "metadata": {},
   "outputs": [],
   "source": [
    "muls = []\n",
    "# data = test\n",
    "approved_chars = [\"m\", \"u\", \"l\", \"(\", \",\", \")\"]\n",
    "for i in range(len(data) - 4):\n",
    "    test_string = data[i:i+4]\n",
    "    # print(test_string)\n",
    "    if test_string == \"mul(\":\n",
    "        full_string = data[i:i+4]\n",
    "        x = \"\"\n",
    "        y = i + 4\n",
    "        ct = 0\n",
    "        while x != \")\":\n",
    "            full_string += data[y + ct]\n",
    "            x = data[y+ct]\n",
    "            ct += 1\n",
    "        good = True\n",
    "        for j in full_string:\n",
    "            if j not in approved_chars:\n",
    "                if not j.isnumeric():\n",
    "                    good = False\n",
    "                    break\n",
    "        if good: muls.append(full_string.replace(\"mul(\", \"\").replace(\")\", \"\"))"
   ]
  },
  {
   "cell_type": "code",
   "execution_count": 148,
   "id": "9d5aff5b-2734-4ca6-8b70-298909f4c71c",
   "metadata": {},
   "outputs": [
    {
     "name": "stdout",
     "output_type": "stream",
     "text": [
      "Correct amount is: 179834255\n"
     ]
    }
   ],
   "source": [
    "amt = 0\n",
    "for i in muls:\n",
    "    splut = i.split(\",\")\n",
    "    amt += int(splut[0]) * int(splut[1])\n",
    "\n",
    "print(f\"Correct amount is: {amt}\")"
   ]
  },
  {
   "cell_type": "code",
   "execution_count": 210,
   "id": "7fff010e-baa1-4509-937b-139158f574b2",
   "metadata": {},
   "outputs": [],
   "source": [
    "muls2 = []\n",
    "approved_chars = [\"m\", \"u\", \"l\", \"(\", \",\", \")\"]\n",
    "do = True\n",
    "for i in range(len(data) - 4):\n",
    "    test_string = data[i:i+4]\n",
    "    if test_string == \"do()\":\n",
    "        do = True\n",
    "    if test_string == \"don'\":\n",
    "        if data[i:i+7] == \"don't()\":\n",
    "            do = False\n",
    "    if do == True:\n",
    "        if test_string == \"mul(\":\n",
    "            full_string = data[i:i+4]\n",
    "            x = \"\"\n",
    "            y = i + 4\n",
    "            ct = 0\n",
    "            while x != \")\":\n",
    "                full_string += data[y + ct]\n",
    "                x = data[y+ct]\n",
    "                ct += 1\n",
    "            good = True\n",
    "            for j in full_string:\n",
    "                if j not in approved_chars:\n",
    "                    if not j.isnumeric():\n",
    "                        good = False\n",
    "                        break\n",
    "            if good: muls2.append(full_string.replace(\"mul(\", \"\").replace(\")\", \"\"))"
   ]
  },
  {
   "cell_type": "code",
   "execution_count": 212,
   "id": "c4df623d-6be0-4cf4-8b75-d4593d9e8836",
   "metadata": {},
   "outputs": [
    {
     "name": "stdout",
     "output_type": "stream",
     "text": [
      "Correct amount is: 80570939\n"
     ]
    }
   ],
   "source": [
    "amt = 0\n",
    "for i in muls2:\n",
    "    splut = i.split(\",\")\n",
    "    amt += int(splut[0]) * int(splut[1])\n",
    "\n",
    "print(f\"Correct amount is: {amt}\")"
   ]
  }
 ],
 "metadata": {
  "kernelspec": {
   "display_name": "Python 3 (ipykernel)",
   "language": "python",
   "name": "python3"
  },
  "language_info": {
   "codemirror_mode": {
    "name": "ipython",
    "version": 3
   },
   "file_extension": ".py",
   "mimetype": "text/x-python",
   "name": "python",
   "nbconvert_exporter": "python",
   "pygments_lexer": "ipython3",
   "version": "3.12.7"
  }
 },
 "nbformat": 4,
 "nbformat_minor": 5
}
