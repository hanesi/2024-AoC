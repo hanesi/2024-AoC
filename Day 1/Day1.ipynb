{
 "cells": [
  {
   "cell_type": "code",
   "execution_count": 7,
   "id": "5e7da3ad-fdd3-4760-ad3e-d3fc20466042",
   "metadata": {},
   "outputs": [
    {
     "data": {
      "text/plain": [
       "'64430   75582\\n'"
      ]
     },
     "execution_count": 7,
     "metadata": {},
     "output_type": "execute_result"
    }
   ],
   "source": [
    "lines = []\n",
    "with open(\"input_day1.txt\", \"r\") as f:\n",
    "    for line in f:\n",
    "        lines.append(line)\n",
    "\n",
    "lines[0]"
   ]
  },
  {
   "cell_type": "code",
   "execution_count": 53,
   "id": "17260e7d-b20b-46fd-865c-3df40175e0bd",
   "metadata": {},
   "outputs": [],
   "source": [
    "l1 = []\n",
    "l2 = []\n",
    "\n",
    "for i in lines:\n",
    "    splut = i.split(\"   \")\n",
    "    l1.append(splut[0])\n",
    "    l2.append(splut[1].replace(\"\\n\", \"\"))\n",
    "\n",
    "l1.sort()\n",
    "l2.sort()"
   ]
  },
  {
   "cell_type": "code",
   "execution_count": 55,
   "id": "c4f8fe42-8efb-4aa3-abca-a0676af8b5ec",
   "metadata": {},
   "outputs": [],
   "source": [
    "dists = []\n",
    "for i in range(len(l1)):\n",
    "    dists.append(abs(int(l1[i]) - int(l2[i])))"
   ]
  },
  {
   "cell_type": "code",
   "execution_count": 59,
   "id": "cc1e8913-1689-4043-8eaa-28ba4ad6594f",
   "metadata": {},
   "outputs": [
    {
     "name": "stdout",
     "output_type": "stream",
     "text": [
      "Correct answer is: 2057374\n"
     ]
    }
   ],
   "source": [
    "print(f\"Correct answer is: {sum(dists)}\")"
   ]
  },
  {
   "cell_type": "code",
   "execution_count": 61,
   "id": "7495c0be-61dc-4a12-a8f6-ddfb321b6cd5",
   "metadata": {},
   "outputs": [],
   "source": [
    "similarity_dict = {}\n",
    "for i in l2:\n",
    "    if i in similarity_dict:\n",
    "        similarity_dict[i] += 1\n",
    "    else:\n",
    "        similarity_dict[i] = 1"
   ]
  },
  {
   "cell_type": "code",
   "execution_count": 69,
   "id": "2dff0976-5df5-42ce-b60e-7f853be048f4",
   "metadata": {},
   "outputs": [],
   "source": [
    "dists2 = []\n",
    "for i in range(len(l1)):\n",
    "    sim_score = similarity_dict.get(l1[i], 0)\n",
    "    dists2.append(abs(int(l1[i]) * sim_score))"
   ]
  },
  {
   "cell_type": "code",
   "execution_count": 73,
   "id": "0f111c22-d88c-411b-8685-0b229fadea3d",
   "metadata": {},
   "outputs": [
    {
     "name": "stdout",
     "output_type": "stream",
     "text": [
      "Correct answer is: 23177084\n"
     ]
    }
   ],
   "source": [
    "print(f\"Correct answer is: {sum(dists2)}\")"
   ]
  },
  {
   "cell_type": "code",
   "execution_count": null,
   "id": "88805e9a-e3a6-415f-9097-83a3d397b14f",
   "metadata": {},
   "outputs": [],
   "source": []
  }
 ],
 "metadata": {
  "kernelspec": {
   "display_name": "Python 3 (ipykernel)",
   "language": "python",
   "name": "python3"
  },
  "language_info": {
   "codemirror_mode": {
    "name": "ipython",
    "version": 3
   },
   "file_extension": ".py",
   "mimetype": "text/x-python",
   "name": "python",
   "nbconvert_exporter": "python",
   "pygments_lexer": "ipython3",
   "version": "3.12.7"
  }
 },
 "nbformat": 4,
 "nbformat_minor": 5
}
