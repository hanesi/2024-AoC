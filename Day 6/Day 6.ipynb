{
 "cells": [
  {
   "cell_type": "code",
   "execution_count": 4,
   "id": "6aa44993-dbc2-422a-9493-f48854c2060a",
   "metadata": {},
   "outputs": [],
   "source": [
    "lines = []\n",
    "with open(\"input.txt\", \"r\") as f:\n",
    "    for line in f:\n",
    "       ok = line.replace(\"\\n\", \"\")\n",
    "       lines.append([i for i in ok])"
   ]
  },
  {
   "cell_type": "code",
   "execution_count": 7,
   "id": "764f20f5",
   "metadata": {},
   "outputs": [
    {
     "name": "stdout",
     "output_type": "stream",
     "text": [
      "130 130\n"
     ]
    }
   ],
   "source": [
    "print(len(lines), len(lines[0]))"
   ]
  },
  {
   "cell_type": "code",
   "execution_count": 12,
   "id": "7ddd2b97",
   "metadata": {},
   "outputs": [
    {
     "data": {
      "text/plain": [
       "[79, 87]"
      ]
     },
     "execution_count": 12,
     "metadata": {},
     "output_type": "execute_result"
    }
   ],
   "source": [
    "x, y = len(lines), len(lines[0])\n",
    "start = None\n",
    "for i in range(x):\n",
    "    for j in range(y):\n",
    "        thang = lines[i][j]\n",
    "        if thang == \"^\":\n",
    "            start = [i, j]\n",
    "\n",
    "start"
   ]
  },
  {
   "cell_type": "code",
   "execution_count": 16,
   "id": "bc7cc394",
   "metadata": {},
   "outputs": [
    {
     "name": "stdout",
     "output_type": "stream",
     "text": [
      "Total visited: 4602\n"
     ]
    }
   ],
   "source": [
    "x, y = len(lines), len(lines[0])\n",
    "start = None\n",
    "\n",
    "for i in range(x):\n",
    "    for j in range(y):\n",
    "        if lines[i][j] == \"^\":\n",
    "            start = [i, j]\n",
    "            break\n",
    "    if start:\n",
    "        break\n",
    "\n",
    "direction = \"up\"\n",
    "visited = set()\n",
    "visited.add(tuple(start))\n",
    "\n",
    "directions = {\n",
    "    \"up\": (-1, 0),\n",
    "    \"right\": (0, 1),\n",
    "    \"down\": (1, 0),\n",
    "    \"left\": (0, -1)\n",
    "}\n",
    "\n",
    "order = [\"up\", \"right\", \"down\", \"left\"]\n",
    "\n",
    "while True:\n",
    "    dy, dx = directions[direction]\n",
    "    next_pos = [start[0] + dy, start[1] + dx]\n",
    "\n",
    "    if 0 <= next_pos[0] < x and 0 <= next_pos[1] < y:\n",
    "        if lines[next_pos[0]][next_pos[1]] == \"#\":\n",
    "            direction = order[(order.index(direction) + 1) % 4]\n",
    "        else:\n",
    "            start = next_pos\n",
    "            visited.add(tuple(start))\n",
    "    else:\n",
    "        break\n",
    "\n",
    "print(f\"Total visited: {len(visited)}\")"
   ]
  },
  {
   "cell_type": "code",
   "execution_count": null,
   "id": "bcea4fdc",
   "metadata": {},
   "outputs": [],
   "source": []
  }
 ],
 "metadata": {
  "kernelspec": {
   "display_name": "Python 3 (ipykernel)",
   "language": "python",
   "name": "python3"
  },
  "language_info": {
   "codemirror_mode": {
    "name": "ipython",
    "version": 3
   },
   "file_extension": ".py",
   "mimetype": "text/x-python",
   "name": "python",
   "nbconvert_exporter": "python",
   "pygments_lexer": "ipython3",
   "version": "3.10.15"
  }
 },
 "nbformat": 4,
 "nbformat_minor": 5
}
