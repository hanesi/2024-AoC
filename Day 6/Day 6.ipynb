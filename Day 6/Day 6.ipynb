{
 "cells": [
  {
   "cell_type": "code",
   "execution_count": 2,
   "id": "37ae290e",
   "metadata": {},
   "outputs": [],
   "source": [
    "import random"
   ]
  },
  {
   "cell_type": "code",
   "execution_count": 3,
   "id": "6aa44993-dbc2-422a-9493-f48854c2060a",
   "metadata": {},
   "outputs": [],
   "source": [
    "lines = []\n",
    "with open(\"input-day5.txt\", \"r\") as f:\n",
    "    for line in f:\n",
    "       lines.append(line.replace(\"\\n\", \"\"))"
   ]
  },
  {
   "cell_type": "code",
   "execution_count": 4,
   "id": "13a5aaba",
   "metadata": {},
   "outputs": [],
   "source": [
    "instructions = {}\n",
    "pages = []\n",
    "\n",
    "for i in lines:\n",
    "    if \"|\" in i:\n",
    "        splut = i.split(\"|\")\n",
    "        f = splut[0]\n",
    "        s = splut[1]\n",
    "        if f in instructions:\n",
    "            instructions[f].append(s)\n",
    "        else:\n",
    "            instructions[f] = [s]\n",
    "    else:\n",
    "        pages.append(i.split(','))\n",
    "\n",
    "pages = pages[1:]"
   ]
  },
  {
   "cell_type": "code",
   "execution_count": 7,
   "id": "95f7eea1",
   "metadata": {},
   "outputs": [
    {
     "name": "stdout",
     "output_type": "stream",
     "text": [
      "Correct sum: 4872\n"
     ]
    }
   ],
   "source": [
    "corrects = []\n",
    "incorrects = set()\n",
    "sum = 0\n",
    "\n",
    "for i, v in enumerate(pages):\n",
    "    for j in range(1, len(v)):\n",
    "        val = v[j]\n",
    "        before = v[:j]\n",
    "\n",
    "        if val in instructions:\n",
    "            check_list = instructions[val]\n",
    "            for k in before:\n",
    "                if k in check_list:\n",
    "                    incorrects.add(i)\n",
    "                    break\n",
    "            else:\n",
    "                continue\n",
    "            break\n",
    "\n",
    "    if i not in incorrects:\n",
    "        mi = len(v) // 2\n",
    "        sum += int(v[int(mi)])\n",
    "\n",
    "print(f\"Correct sum: {sum}\")\n",
    "        "
   ]
  },
  {
   "cell_type": "code",
   "execution_count": 9,
   "id": "000e7f4e",
   "metadata": {},
   "outputs": [],
   "source": [
    "def checker(report, d):\n",
    "    for j in range(1, len(report)):\n",
    "        val = report[j]\n",
    "        before = report[:j]\n",
    "\n",
    "        if val in d:\n",
    "            check_list = d[val]\n",
    "            for k in before:\n",
    "                if k in check_list:\n",
    "                    return False\n",
    "    return True"
   ]
  },
  {
   "cell_type": "code",
   "execution_count": 13,
   "id": "20a5b80a",
   "metadata": {},
   "outputs": [],
   "source": [
    "bads = []\n",
    "goods2 = []\n",
    "\n",
    "for i, v in enumerate(pages):\n",
    "    if i in incorrects:\n",
    "        bads.append(v)\n",
    "\n",
    "for i, v in enumerate(bads):\n",
    "    srted = False\n",
    "    test = v\n",
    "    while srted == False:\n",
    "        right = checker(test, instructions)\n",
    "        if right == True:\n",
    "            goods2.append(test)\n",
    "            srted = True\n",
    "        random.shuffle(test)\n"
   ]
  },
  {
   "cell_type": "code",
   "execution_count": 110,
   "id": "b77e6e71",
   "metadata": {},
   "outputs": [
    {
     "data": {
      "text/plain": [
       "4998"
      ]
     },
     "execution_count": 110,
     "metadata": {},
     "output_type": "execute_result"
    }
   ],
   "source": [
    "sum = 0\n",
    "for i in goods2:\n",
    "    mi = len(i) // 2\n",
    "    sum += int(i[int(mi)])\n",
    "\n",
    "sum"
   ]
  },
  {
   "cell_type": "code",
   "execution_count": null,
   "id": "764f20f5",
   "metadata": {},
   "outputs": [],
   "source": []
  }
 ],
 "metadata": {
  "kernelspec": {
   "display_name": "Python 3 (ipykernel)",
   "language": "python",
   "name": "python3"
  },
  "language_info": {
   "codemirror_mode": {
    "name": "ipython",
    "version": 3
   },
   "file_extension": ".py",
   "mimetype": "text/x-python",
   "name": "python",
   "nbconvert_exporter": "python",
   "pygments_lexer": "ipython3",
   "version": "3.10.15"
  }
 },
 "nbformat": 4,
 "nbformat_minor": 5
}
