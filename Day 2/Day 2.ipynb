{
 "cells": [
  {
   "cell_type": "code",
   "execution_count": 122,
   "id": "85004475-da38-426e-b3aa-7384868d13a6",
   "metadata": {},
   "outputs": [
    {
     "data": {
      "text/plain": [
       "[27, 29, 30, 33, 34, 35, 37, 35]"
      ]
     },
     "execution_count": 122,
     "metadata": {},
     "output_type": "execute_result"
    }
   ],
   "source": [
    "lines = []\n",
    "with open(\"input_day2.txt\", \"r\") as f:\n",
    "    for line in f:\n",
    "        l_list = []\n",
    "        l_splut = line.split(\" \")\n",
    "        for i in l_splut:\n",
    "            l_list.append(int(i.replace(\"\\n\", \"\")))\n",
    "        # lines.append(int(line.split(\" \").replace(\"\\n\", \"\")))\n",
    "        lines.append(l_list)\n",
    "\n",
    "lines[0]"
   ]
  },
  {
   "cell_type": "code",
   "execution_count": 27,
   "id": "33e2ef61-d08e-49a1-9890-00b8cdab699c",
   "metadata": {},
   "outputs": [
    {
     "data": {
      "text/plain": [
       "1000"
      ]
     },
     "execution_count": 27,
     "metadata": {},
     "output_type": "execute_result"
    }
   ],
   "source": [
    "len(lines)"
   ]
  },
  {
   "cell_type": "code",
   "execution_count": 13,
   "id": "28d6f803-e95e-4d55-afea-0a8fa3b191b6",
   "metadata": {},
   "outputs": [],
   "source": [
    "test = lines[:2]"
   ]
  },
  {
   "cell_type": "code",
   "execution_count": 15,
   "id": "0d47499a-8d4f-42c5-ad26-09d34073b016",
   "metadata": {},
   "outputs": [
    {
     "data": {
      "text/plain": [
       "[[27, 29, 30, 33, 34, 35, 37, 35], [51, 53, 54, 55, 57, 60, 63, 63]]"
      ]
     },
     "execution_count": 15,
     "metadata": {},
     "output_type": "execute_result"
    }
   ],
   "source": [
    "test"
   ]
  },
  {
   "cell_type": "code",
   "execution_count": 49,
   "id": "e9aea2f3-7d5e-4f77-9527-f2a5edf45e43",
   "metadata": {},
   "outputs": [],
   "source": [
    "reps = []\n",
    "for t in lines:\n",
    "    safes = []\n",
    "    increasing = None\n",
    "    for i in range(len(t) - 1):\n",
    "        diff = t[i] - t[i + 1]\n",
    "        if abs(diff) > 3 or abs(diff) == 0:\n",
    "            safes.append(0)\n",
    "            break\n",
    "        if increasing is None and diff > 0:\n",
    "            increasing = True\n",
    "        elif increasing is None and diff < 0:\n",
    "            increasing = False\n",
    "        elif increasing is True and diff < 0:\n",
    "            safes.append(0)\n",
    "            break\n",
    "        elif increasing is False and diff > 0:\n",
    "            safes.append(0)\n",
    "            break\n",
    "        safes.append(1)\n",
    "    \n",
    "    if 0 in safes:\n",
    "        reps.append(0)\n",
    "    else:\n",
    "        reps.append(1)"
   ]
  },
  {
   "cell_type": "code",
   "execution_count": 51,
   "id": "e30314e5-a321-41ac-b50a-3ffbf312d9b2",
   "metadata": {},
   "outputs": [
    {
     "name": "stdout",
     "output_type": "stream",
     "text": [
      "Correct answer is: 660\n"
     ]
    }
   ],
   "source": [
    "print(f\"Correct answer is: {sum(reps)}\")"
   ]
  },
  {
   "cell_type": "code",
   "execution_count": 118,
   "id": "e3257a13-1cbd-4042-891d-d7ad9b6bca6f",
   "metadata": {},
   "outputs": [],
   "source": [
    "reps = []\n",
    "lines2 = [(i, 0) for i in lines]\n",
    "for t in lines2:\n",
    "    safes = []\n",
    "    increasing = None\n",
    "    for i in range(len(t[0]) - 1):\n",
    "        diff = t[0][i] - t[0][i + 1]\n",
    "        if abs(diff) > 3 or abs(diff) == 0:\n",
    "            safes.append(0)\n",
    "            if t[1] == 0 and t[0][i] > t[0][i+1]:\n",
    "                # t[0].pop(i+1)\n",
    "                t[0].pop(i)\n",
    "                lines2.append((t[0], 1))\n",
    "            elif t[1] == 0 and t[0][i] < t[0][i+1]:\n",
    "                t[0].pop(i)\n",
    "                # t[0].pop(i+1)\n",
    "                lines2.append((t[0], 1))\n",
    "            break\n",
    "        if increasing is None and diff > 0:\n",
    "            increasing = True\n",
    "        elif increasing is None and diff < 0:\n",
    "            increasing = False\n",
    "        elif increasing is True and diff < 0:\n",
    "            safes.append(0)\n",
    "            if t[1] == 0:\n",
    "                t[0].pop(i+1)\n",
    "                # t[0].pop(i)\n",
    "                lines2.append((t[0], 1))\n",
    "            break\n",
    "        elif increasing is False and diff > 0:\n",
    "            safes.append(0)\n",
    "            if t[1] == 0:\n",
    "                t[0].pop(i)\n",
    "                # t[0].pop(i+1)\n",
    "                lines2.append((t[0], 1))\n",
    "            break\n",
    "        safes.append(1)\n",
    "    \n",
    "    if 0 in safes:\n",
    "        reps.append(0)\n",
    "    else:\n",
    "        reps.append(1)"
   ]
  },
  {
   "cell_type": "code",
   "execution_count": 120,
   "id": "91d596ed-cbda-4899-b966-fe111bb9d7a8",
   "metadata": {},
   "outputs": [
    {
     "data": {
      "text/plain": [
       "669"
      ]
     },
     "execution_count": 120,
     "metadata": {},
     "output_type": "execute_result"
    }
   ],
   "source": [
    "sum(reps)"
   ]
  },
  {
   "cell_type": "code",
   "execution_count": 100,
   "id": "d47f47e0-1fc0-4ddc-b313-8c8888b6faff",
   "metadata": {},
   "outputs": [
    {
     "name": "stdout",
     "output_type": "stream",
     "text": [
      "660\n",
      "689\n"
     ]
    }
   ],
   "source": [
    "def is_safe(row):\n",
    "    inc = [row[i + 1] - row[i] for i in range(len(row) - 1)]\n",
    "    if set(inc) <= {1, 2, 3} or set(inc) <= {-1, -2, -3}:\n",
    "        return True\n",
    "    return False\n",
    "\n",
    "# data = [[int(y) for y in x.split(' ')] for x in open('input_day2.txt').read().split('\\n')]\n",
    "\n",
    "safe_count = sum([is_safe(row) for row in lines])\n",
    "print(safe_count)\n",
    "\n",
    "safe_count = sum([any([is_safe(row[:i] + row[i + 1:]) for i in range(len(row))]) for row in lines])\n",
    "print(safe_count)"
   ]
  },
  {
   "cell_type": "code",
   "execution_count": null,
   "id": "d0b6b559-aeaf-4b14-86e6-6f2030aca0ee",
   "metadata": {},
   "outputs": [],
   "source": []
  }
 ],
 "metadata": {
  "kernelspec": {
   "display_name": "Python 3 (ipykernel)",
   "language": "python",
   "name": "python3"
  },
  "language_info": {
   "codemirror_mode": {
    "name": "ipython",
    "version": 3
   },
   "file_extension": ".py",
   "mimetype": "text/x-python",
   "name": "python",
   "nbconvert_exporter": "python",
   "pygments_lexer": "ipython3",
   "version": "3.12.7"
  }
 },
 "nbformat": 4,
 "nbformat_minor": 5
}
